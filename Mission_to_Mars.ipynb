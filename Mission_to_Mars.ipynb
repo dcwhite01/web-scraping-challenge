{
 "cells": [
  {
   "cell_type": "code",
   "execution_count": 20,
   "metadata": {},
   "outputs": [],
   "source": [
    "from splinter import Browser\n",
    "from bs4 import BeautifulSoup\n",
    "from webdriver_manager.chrome import ChromeDriverManager\n",
    "import pandas as pd\n",
    "\n",
    "\n",
    "def scrape():\n",
    "    executable_path = {\"executable_path\": ChromeDriverManager().install()}\n",
    "    browser = Browser(\"chrome\", **executable_path, headless=False)\n",
    "    title, news_p = news(browser)\n",
    "    data = {\n",
    "        \"title\": title,\n",
    "        \"news\": news_p,\n",
    "        \"facts\": mars_facts(browser),\n",
    "        \"featured_image\": featured_image(browser),\n",
    "        \"hemisphere_image_urls\": images(browser)\n",
    "        \n",
    "    }\n",
    "    browser.quit\n",
    "    return(data)\n",
    "    \n",
    "def news(browser):\n",
    "\n",
    "    url = \"https://mars.nasa.gov/news/\"\n",
    "    browser.visit(url)\n",
    "    html = browser.html\n",
    "    bsoup = BeautifulSoup(html, \"html.parser\")\n",
    "\n",
    "    article = bsoup.find(\"div\", class_='list_text')\n",
    "    title = article.find(\"div\", class_=\"content_title\").text\n",
    "    news_p = article.find(\"div\", class_ =\"article_teaser_body\").text\n",
    "    browser.quit\n",
    "    return(title, news_p)\n",
    "\n",
    "def featured_image(browser):\n",
    "    image_url = \"https://www.jpl.nasa.gov/spaceimages/?search=&category=Mars\"\n",
    "    browser.visit(image_url)\n",
    "    html = browser.html\n",
    "    bsoup = BeautifulSoup(html, \"html.parser\")\n",
    "    image = bsoup.find(\"img\", class_=\"thumb\")[\"src\"]\n",
    "    featured_image_url = \"https://www.jpl.nasa.gov\" + image\n",
    "    return featured_image_url\n",
    "\n",
    "# def featured_image(browser):\n",
    "#     featured_image_url = \"https://data-class-jpl-space.s3.amazonaws.com/JPL_Space/image/featured/mars2.jpg\"\n",
    "\n",
    "def mars_facts(browser):\n",
    "    url = \"https://space-facts.com/mars/\"\n",
    "    browser.visit(url)\n",
    "    table = pd.read_html(url)\n",
    "    df = table[1]\n",
    "    html_table = df.to_html(table_id=\"html_tbl_css\",justify='left',index=False)\n",
    "    browser.quit\n",
    "    return(html_table)\n",
    "   \n",
    "def images(browser):\n",
    "    hemispheres_url = \"https://astrogeology.usgs.gov/search/results?q=hemisphere+enhanced&k1=target&v1=Mars\"\n",
    "    browser.visit(hemispheres_url)\n",
    "\n",
    "    MarsImages_url = \"https://astrogeology.usgs.gov/search/results?q=hemisphere+enhanced&k1=target&v1=Mars\"\n",
    "    browser.visit(MarsImages_url)\n",
    "    html = browser.html\n",
    "    soup = BeautifulSoup(html, \"html.parser\")\n",
    "\n",
    "    hemisphere_divs = soup.find_all(\"div\", class_=\"item\")\n",
    "    hemisphere_image_urls = []\n",
    "    for hem in range(len(hemisphere_divs)):\n",
    "        hemisphere = {}\n",
    "        hem_link = browser.find_by_css(\"h3\")\n",
    "        hem_link[hem].click()\n",
    "        downloads = browser.find_by_text(\"Original\")\n",
    "        hemisphere[\"image_url\"] = downloads[\"href\"]\n",
    "        title = browser.find_by_css(\"h2.title\").text\n",
    "        hemisphere[\"title\"] = title\n",
    "        hemisphere_image_urls.append(hemisphere)\n",
    "        browser.back()\n",
    "    browser.quit()\n",
    "    return(hemisphere_image_urls)"
   ]
  },
  {
   "cell_type": "code",
   "execution_count": 23,
   "metadata": {},
   "outputs": [
    {
     "name": "stderr",
     "output_type": "stream",
     "text": [
      "[WDM] - ====== WebDriver manager ======\n"
     ]
    },
    {
     "name": "stdout",
     "output_type": "stream",
     "text": [
      "\n",
      "\n"
     ]
    },
    {
     "name": "stderr",
     "output_type": "stream",
     "text": [
      "[WDM] - Current google-chrome version is 89.0.4389\n",
      "[WDM] - Get LATEST driver version for 89.0.4389\n",
      "[WDM] - Get LATEST driver version for 89.0.4389\n",
      "[WDM] - Trying to download new driver from https://chromedriver.storage.googleapis.com/89.0.4389.23/chromedriver_mac64.zip\n",
      "[WDM] - Driver has been saved in cache [/Users/Danielle/.wdm/drivers/chromedriver/mac64/89.0.4389.23]\n"
     ]
    },
    {
     "data": {
      "text/plain": [
       "[{'image_url': 'https://astropedia.astrogeology.usgs.gov/download/Mars/Viking/cerberus_enhanced.tif',\n",
       "  'title': 'Cerberus Hemisphere Enhanced'},\n",
       " {'image_url': 'https://astropedia.astrogeology.usgs.gov/download/Mars/Viking/schiaparelli_enhanced.tif',\n",
       "  'title': 'Schiaparelli Hemisphere Enhanced'},\n",
       " {'image_url': 'https://astropedia.astrogeology.usgs.gov/download/Mars/Viking/syrtis_major_enhanced.tif',\n",
       "  'title': 'Syrtis Major Hemisphere Enhanced'},\n",
       " {'image_url': 'https://astropedia.astrogeology.usgs.gov/download/Mars/Viking/valles_marineris_enhanced.tif',\n",
       "  'title': 'Valles Marineris Hemisphere Enhanced'}]"
      ]
     },
     "execution_count": 23,
     "metadata": {},
     "output_type": "execute_result"
    }
   ],
   "source": [
    "scrape()"
   ]
  },
  {
   "cell_type": "code",
   "execution_count": null,
   "metadata": {},
   "outputs": [],
   "source": []
  }
 ],
 "metadata": {
  "kernelspec": {
   "display_name": "Python 3",
   "language": "python",
   "name": "python3"
  },
  "language_info": {
   "codemirror_mode": {
    "name": "ipython",
    "version": 3
   },
   "file_extension": ".py",
   "mimetype": "text/x-python",
   "name": "python",
   "nbconvert_exporter": "python",
   "pygments_lexer": "ipython3",
   "version": "3.8.5"
  }
 },
 "nbformat": 4,
 "nbformat_minor": 4
}
